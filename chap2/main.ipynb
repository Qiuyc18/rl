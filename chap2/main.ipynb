{
 "cells": [
  {
   "cell_type": "code",
   "execution_count": null,
   "metadata": {},
   "outputs": [],
   "source": [
    "from experiments.load_experiment_config import ExperimentRunner\n",
    "from utils.plotting import BanditVisualizer\n",
    "\n",
    "runner = ExperimentRunner()\n",
    "results = runner.run(parallel=False)\n",
    "\n",
    "vis = BanditVisualizer()\n",
    "for label, data in results.items():\n",
    "    vis.add_data(label, data)\n",
    "vis.plot(title='Results', alpha=0.25)"
   ]
  },
  {
   "cell_type": "code",
   "execution_count": null,
   "metadata": {},
   "outputs": [],
   "source": [
    "results"
   ]
  }
 ],
 "metadata": {
  "kernelspec": {
   "display_name": "torch",
   "language": "python",
   "name": "python3"
  },
  "language_info": {
   "codemirror_mode": {
    "name": "ipython",
    "version": 3
   },
   "file_extension": ".py",
   "mimetype": "text/x-python",
   "name": "python",
   "nbconvert_exporter": "python",
   "pygments_lexer": "ipython3",
   "version": "3.12.9"
  }
 },
 "nbformat": 4,
 "nbformat_minor": 2
}
